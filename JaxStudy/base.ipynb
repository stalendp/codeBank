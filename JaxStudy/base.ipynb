{
 "cells": [
  {
   "cell_type": "markdown",
   "metadata": {},
   "source": [
    "## 一些实用的函数"
   ]
  },
  {
   "cell_type": "code",
   "execution_count": 19,
   "metadata": {},
   "outputs": [],
   "source": [
    "import numpy as np\n",
    "import jax.numpy as jnp"
   ]
  },
  {
   "cell_type": "markdown",
   "metadata": {},
   "source": [
    "#### 1. tile vs repeat"
   ]
  },
  {
   "cell_type": "code",
   "execution_count": 17,
   "metadata": {},
   "outputs": [
    {
     "name": "stdout",
     "output_type": "stream",
     "text": [
      "tille:\n",
      " [[1 2 3 1 2 3 1 2 3]\n",
      " [1 2 3 1 2 3 1 2 3]]\n",
      "repeat:\n",
      " [1 1 1 2 2 2 3 3 3]\n"
     ]
    }
   ],
   "source": [
    "a = np.array([1,2,3])\n",
    "print(\"tille:\\n\", jnp.tile(a, (2, 3)))\n",
    "print(\"repeat:\\n\", jnp.repeat(a, 3, axis=-1))\n"
   ]
  },
  {
   "cell_type": "code",
   "execution_count": 3,
   "metadata": {},
   "outputs": [],
   "source": [
    "import flax.linen as nn\n",
    "import jax.numpy as jnp\n",
    "import numpy as np\n",
    "class Base2FourierFeatures(nn.Module):\n",
    "  # Create Base 2 Fourier features\n",
    "  @nn.compact\n",
    "  def __call__(self, inputs):\n",
    "    freqs = jnp.asarray(range(8), dtype=inputs.dtype) #[0, 1, ..., 7]\n",
    "    w = 2.**freqs * 2 * jnp.pi\n",
    "    w = jnp.tile(w[None, :], (1, inputs.shape[-1]))\n",
    "    h = jnp.repeat(inputs, len(freqs), axis=-1)\n",
    "    h *= w\n",
    "    h = jnp.concatenate([jnp.sin(h), jnp.cos(h)], axis=-1)\n",
    "    return h"
   ]
  },
  {
   "cell_type": "markdown",
   "metadata": {},
   "source": [
    "#### 2. Dimension相关"
   ]
  },
  {
   "cell_type": "code",
   "execution_count": 25,
   "metadata": {},
   "outputs": [
    {
     "name": "stdout",
     "output_type": "stream",
     "text": [
      "(3,) (3, 1) (1, 3)\n"
     ]
    }
   ],
   "source": [
    "# 2.1 \n",
    "a = np.random.randn(3)   \n",
    "print(a.shape,          # (3,)\n",
    "      a[:,None].shape,  # (3,1)\n",
    "      a[None,:].shape)  # (1,3)"
   ]
  },
  {
   "cell_type": "markdown",
   "metadata": {},
   "source": [
    "#### 3. Disribuion"
   ]
  },
  {
   "cell_type": "code",
   "execution_count": 120,
   "metadata": {},
   "outputs": [
    {
     "name": "stdout",
     "output_type": "stream",
     "text": [
      "probability\n",
      "\t [0.01988041 0.01103293 0.6620016  0.27488098 0.03220405] => sum: 1.00\n",
      "estimated: \n",
      "\t [0.017      0.011      0.642      0.30200002 0.028     ]\n"
     ]
    }
   ],
   "source": [
    "import jax\n",
    "\n",
    "key, rng = random.split(random.PRNGKey(0))\n",
    "s = jax.nn.softmax(random.normal(rng, (5,)))\n",
    "print(\"probability\\n\\t\", s, \"=> sum: %.2f\"%jnp.sum(s)) \n",
    "\n",
    "key, *rngs = random.split(key,1001)\n",
    "ss = jnp.array([random.categorical(rng, jnp.log(s)) for rng in rngs])  # categorical的用法\n",
    "print(\"estimated: \\n\\t\", jnp.array([jnp.mean(ss==i) for i in range(5)]))"
   ]
  },
  {
   "cell_type": "markdown",
   "metadata": {},
   "source": [
    "## 一些简单的工具\n",
    "\n",
    "refer: https://flax.readthedocs.io/en/latest/guides/jax_for_the_impatient.html"
   ]
  },
  {
   "cell_type": "markdown",
   "metadata": {},
   "source": [
    "一些简单的文字技巧：\n",
    "\n",
    "1. 在interactive mode中执行文件命令：   \n",
    "   参考：https://stackoverflow.com/a/4624521\n",
    "``` python \n",
    "exec(open('script.py').read())\n",
    "```"
   ]
  },
  {
   "cell_type": "markdown",
   "metadata": {},
   "source": [
    "### random"
   ]
  },
  {
   "cell_type": "code",
   "execution_count": 36,
   "metadata": {},
   "outputs": [],
   "source": [
    "from jax import jit\n",
    "\n",
    "### ---- random test -----\n",
    "# https://github.com/google/jax/issues/968#issuecomment-508179312\n",
    "\n",
    "key = random.PRNGKey(0)  # <- initial\n",
    "@jit\n",
    "def split_and_sample(key):\n",
    "  key, subkey = random.split(key)  # <- split\n",
    "  val = random.normal(subkey, shape=(3,)) # <- usage\n",
    "  return key, val\n",
    "\n",
    "# split 多个 \n",
    "key, *subkeys = random.split(key, 3)"
   ]
  },
  {
   "cell_type": "markdown",
   "metadata": {},
   "source": [
    "why need `random.split`? "
   ]
  },
  {
   "cell_type": "code",
   "execution_count": 19,
   "metadata": {},
   "outputs": [
    {
     "name": "stdout",
     "output_type": "stream",
     "text": [
      "[ 1.8160863  -0.48262316  0.33988908]\n",
      "[ 1.8160863  -0.48262316  0.33988908]\n"
     ]
    }
   ],
   "source": [
    "key = random.PRNGKey(0)\n",
    "print(random.normal(key, shape=(3,))) \n",
    "print(random.normal(key, shape=(3,)))  # remains same as previous"
   ]
  },
  {
   "cell_type": "code",
   "execution_count": 25,
   "metadata": {},
   "outputs": [
    {
     "name": "stdout",
     "output_type": "stream",
     "text": [
      "[ 0.06513273  0.9301752  -1.0317023 ]\n",
      "[ 0.8145605  1.0554591 -0.3506622]\n"
     ]
    }
   ],
   "source": [
    "# correct usage\n",
    "key, subkey = random.split(key)\n",
    "print(random.normal(subkey, shape=(3,))) \n",
    "key, subkey = random.split(key)\n",
    "print(random.normal(subkey, shape=(3,)))  "
   ]
  },
  {
   "cell_type": "markdown",
   "metadata": {},
   "source": [
    "### Timeit的测试"
   ]
  },
  {
   "cell_type": "code",
   "execution_count": 12,
   "metadata": {},
   "outputs": [
    {
     "name": "stdout",
     "output_type": "stream",
     "text": [
      "103 ms ± 2 ms per loop (mean ± std. dev. of 3 runs, 5 loops each)\n",
      "takes 0.1007 secs\n",
      "takes 0.0941 secs\n"
     ]
    }
   ],
   "source": [
    "%timeit -r3 -n5 sample_repeatedly_with_split(key)  # only in jupyter notebook\n",
    "\n",
    "# 其他方法\n",
    "import time, timeit\n",
    "# method2\n",
    "ttt = timeit.timeit(lambda : sample_repeatedly_with_split(key), number=10)\n",
    "print('method2: takes %.4f secs' % (ttt / 10))\n",
    "\n",
    "# method3\n",
    "now = time.time()\n",
    "sample_repeatedly_with_split(key)\n",
    "print('method3: takes %.4f secs' % (time.time() - now))"
   ]
  },
  {
   "cell_type": "markdown",
   "metadata": {},
   "source": [
    "### Autoload功能\n"
   ]
  },
  {
   "cell_type": "code",
   "execution_count": 2,
   "metadata": {},
   "outputs": [],
   "source": [
    "# Local imports from current directory - auto reload.\n",
    "# Any changes you make to train.py will appear automatically.\n",
    "%load_ext autoreload\n",
    "%autoreload 2\n",
    "from mycode.test import myNumber"
   ]
  },
  {
   "cell_type": "code",
   "execution_count": 5,
   "metadata": {},
   "outputs": [
    {
     "data": {
      "text/plain": [
       "1"
      ]
     },
     "execution_count": 5,
     "metadata": {},
     "output_type": "execute_result"
    }
   ],
   "source": [
    "myNumber()"
   ]
  },
  {
   "cell_type": "markdown",
   "metadata": {},
   "source": [
    "## Plot相关"
   ]
  },
  {
   "cell_type": "markdown",
   "metadata": {},
   "source": [
    "### 1. 简单的函数打印"
   ]
  },
  {
   "cell_type": "code",
   "execution_count": 121,
   "metadata": {},
   "outputs": [
    {
     "data": {
      "image/png": "[encoded data removed]",
      "text/plain": [
       "<Figure size 432x288 with 1 Axes>"
      ]
     },
     "metadata": {
      "needs_background": "light"
     },
     "output_type": "display_data"
    }
   ],
   "source": [
    "import numpy as np\n",
    "import matplotlib.pyplot as plt\n",
    "\n",
    "def gamma(ts, gamma_min=-6, gamma_max=6):\n",
    "  return gamma_max + (gamma_min - gamma_max) * ts\n",
    "\n",
    "def sigma2(gamma):\n",
    "  return jax.nn.sigmoid(-gamma)\n",
    "\n",
    "def alpha(gamma):\n",
    "  return np.sqrt(1 - sigma2(gamma))\n",
    "\n",
    "ts = np.linspace(0, 1, 1000)\n",
    "plt.plot(ts, sigma2(gamma(ts)), label=r'$\\sigma^2$')\n",
    "plt.plot(ts, alpha(gamma(ts)), label=r'$\\alpha$')\n",
    "plt.legend();"
   ]
  }
 ],
 "metadata": {
  "kernelspec": {
   "display_name": "Python 3.9.7 ('base')",
   "language": "python",
   "name": "python3"
  },
  "language_info": {
   "codemirror_mode": {
    "name": "ipython",
    "version": 3
   },
   "file_extension": ".py",
   "mimetype": "text/x-python",
   "name": "python",
   "nbconvert_exporter": "python",
   "pygments_lexer": "ipython3",
   "version": "3.9.7"
  },
  "orig_nbformat": 4,
  "vscode": {
   "interpreter": {
    "hash": "c683adaff7d39edece3d9b29c0f015e5ed01db8984d2a591b7486043b1a59aa5"
   }
  }
 },
 "nbformat": 4,
 "nbformat_minor": 2
}
