{
 "cells": [
  {
   "cell_type": "markdown",
   "metadata": {},
   "source": [
    "## 一些简单的工具\n",
    "\n",
    "refer: https://flax.readthedocs.io/en/latest/guides/jax_for_the_impatient.html"
   ]
  },
  {
   "cell_type": "markdown",
   "metadata": {},
   "source": [
    "### random"
   ]
  },
  {
   "cell_type": "code",
   "execution_count": 17,
   "metadata": {},
   "outputs": [
    {
     "name": "stdout",
     "output_type": "stream",
     "text": [
      "130 ms ± 34.8 ms per loop (mean ± std. dev. of 2 runs, 5 loops each)\n"
     ]
    }
   ],
   "source": [
    "from jax import jit\n",
    "\n",
    "### ---- random test -----\n",
    "# https://github.com/google/jax/issues/968#issuecomment-508179312\n",
    "@jit\n",
    "key = random.PRNGKey(0)  # <- initial\n",
    "@jit\n",
    "def split_and_sample(key):\n",
    "  key, subkey = random.split(key)  # <- split\n",
    "  val = random.normal(subkey, shape=(3,)) # <- usage\n",
    "  return key, val\n",
    "\n",
    "def sample_repeatedly_with_split(key):\n",
    "  for _ in range(10000):\n",
    "    key, _ = split_and_sample(key)\n",
    "\n",
    "%timeit -r2 -n5 sample_repeatedly_with_split(key)"
   ]
  },
  {
   "cell_type": "markdown",
   "metadata": {},
   "source": [
    "why need `random.split`? "
   ]
  },
  {
   "cell_type": "code",
   "execution_count": 19,
   "metadata": {},
   "outputs": [
    {
     "name": "stdout",
     "output_type": "stream",
     "text": [
      "[ 1.8160863  -0.48262316  0.33988908]\n",
      "[ 1.8160863  -0.48262316  0.33988908]\n"
     ]
    }
   ],
   "source": [
    "key = random.PRNGKey(0)\n",
    "print(random.normal(key, shape=(3,))) \n",
    "print(random.normal(key, shape=(3,)))  # remains same as previous"
   ]
  },
  {
   "cell_type": "code",
   "execution_count": 25,
   "metadata": {},
   "outputs": [
    {
     "name": "stdout",
     "output_type": "stream",
     "text": [
      "[ 0.06513273  0.9301752  -1.0317023 ]\n",
      "[ 0.8145605  1.0554591 -0.3506622]\n"
     ]
    }
   ],
   "source": [
    "# correct usage\n",
    "key, subkey = random.split(key)\n",
    "print(random.normal(subkey, shape=(3,))) \n",
    "key, subkey = random.split(key)\n",
    "print(random.normal(subkey, shape=(3,)))  "
   ]
  },
  {
   "cell_type": "markdown",
   "metadata": {},
   "source": [
    "### Timeit的测试"
   ]
  },
  {
   "cell_type": "code",
   "execution_count": 12,
   "metadata": {},
   "outputs": [
    {
     "name": "stdout",
     "output_type": "stream",
     "text": [
      "103 ms ± 2 ms per loop (mean ± std. dev. of 3 runs, 5 loops each)\n",
      "takes 0.1007 secs\n",
      "takes 0.0941 secs\n"
     ]
    }
   ],
   "source": [
    "%timeit -r3 -n5 sample_repeatedly_with_split(key)  # only in jupyter notebook\n",
    "\n",
    "# 其他方法\n",
    "import time, timeit\n",
    "# method2\n",
    "ttt = timeit.timeit(lambda : sample_repeatedly_with_split(key), number=10)\n",
    "print('method2: takes %.4f secs' % (ttt / 10))\n",
    "\n",
    "# method3\n",
    "now = time.time()\n",
    "sample_repeatedly_with_split(key)\n",
    "print('method3: takes %.4f secs' % (time.time() - now))"
   ]
  },
  {
   "cell_type": "markdown",
   "metadata": {},
   "source": [
    "### Autoload功能\n"
   ]
  },
  {
   "cell_type": "code",
   "execution_count": 2,
   "metadata": {},
   "outputs": [],
   "source": [
    "# Local imports from current directory - auto reload.\n",
    "# Any changes you make to train.py will appear automatically.\n",
    "%load_ext autoreload\n",
    "%autoreload 2\n",
    "from mycode.test import myNumber"
   ]
  },
  {
   "cell_type": "code",
   "execution_count": 5,
   "metadata": {},
   "outputs": [
    {
     "data": {
      "text/plain": [
       "1"
      ]
     },
     "execution_count": 5,
     "metadata": {},
     "output_type": "execute_result"
    }
   ],
   "source": [
    "myNumber()"
   ]
  }
 ],
 "metadata": {
  "kernelspec": {
   "display_name": "Python 3.10.4 64-bit ('pytorch')",
   "language": "python",
   "name": "python3"
  },
  "language_info": {
   "codemirror_mode": {
    "name": "ipython",
    "version": 3
   },
   "file_extension": ".py",
   "mimetype": "text/x-python",
   "name": "python",
   "nbconvert_exporter": "python",
   "pygments_lexer": "ipython3",
   "version": "3.10.4"
  },
  "orig_nbformat": 4,
  "vscode": {
   "interpreter": {
    "hash": "8795502de6d0a7d7bc9ca79773498af11dd04849ae557535fdc41c5621c59687"
   }
  }
 },
 "nbformat": 4,
 "nbformat_minor": 2
}
